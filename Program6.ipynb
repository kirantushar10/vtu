{
 "cells": [
  {
   "cell_type": "code",
   "execution_count": 1,
   "id": "5e2b5227",
   "metadata": {},
   "outputs": [],
   "source": [
    "import numpy as np\n",
    "import pandas as pd\n",
    "import csv\n",
    "from sklearn.model_selection import train_test_split\n",
    "from sklearn.naive_bayes import GaussianNB\n",
    "from sklearn import metrics"
   ]
  },
  {
   "cell_type": "code",
   "execution_count": 5,
   "id": "ddc35dac",
   "metadata": {},
   "outputs": [
    {
     "name": "stdout",
     "output_type": "stream",
     "text": [
      "[['6.0' '148.0' '72.0' ... '0.627' '50.0' '1.0']\n",
      " ['1.0' '85.0' '66.0' ... '0.351' '31.0' '0.0']\n",
      " ['8.0' '183.0' '64.0' ... '0.672' '32.0' '1.0']\n",
      " ...\n",
      " ['5.0' '121.0' '72.0' ... '0.245' '30.0' '0.0']\n",
      " ['1.0' '126.0' '60.0' ... '0.349' '47.0' '1.0']\n",
      " ['1.0' '93.0' '70.0' ... '0.315' '23.0' '0.0']]\n"
     ]
    }
   ],
   "source": [
    "lines = csv.reader(open('diabetes.csv', \"r\"))\n",
    "dataset = np.array(list(lines))\n",
    "for i in range(len(dataset)):\n",
    "    dataset[i] = [float(x) for x in dataset[i]]\n",
    "dataset = np.array(dataset)\n",
    "print(dataset)\n",
    "X = dataset[:,:8]\n",
    "y = dataset[:,8]"
   ]
  },
  {
   "cell_type": "code",
   "execution_count": 3,
   "id": "fd7253b5",
   "metadata": {},
   "outputs": [
    {
     "name": "stderr",
     "output_type": "stream",
     "text": [
      "C:\\ProgramData\\Anaconda3\\lib\\site-packages\\sklearn\\utils\\validation.py:63: FutureWarning: Arrays of bytes/strings is being converted to decimal numbers if dtype='numeric'. This behavior is deprecated in 0.24 and will be removed in 1.1 (renaming of 0.26). Please convert your data to numeric values explicitly instead.\n",
      "  return f(*args, **kwargs)\n",
      "C:\\ProgramData\\Anaconda3\\lib\\site-packages\\sklearn\\utils\\validation.py:63: FutureWarning: Arrays of bytes/strings is being converted to decimal numbers if dtype='numeric'. This behavior is deprecated in 0.24 and will be removed in 1.1 (renaming of 0.26). Please convert your data to numeric values explicitly instead.\n",
      "  return f(*args, **kwargs)\n"
     ]
    }
   ],
   "source": [
    "X_train,X_test,y_train,y_test = train_test_split(X,y,test_size = 0.30)\n",
    "gn = GaussianNB()\n",
    "gn.fit(X_train,y_train)\n",
    "y_pred = gn.predict(X_test)"
   ]
  },
  {
   "cell_type": "code",
   "execution_count": 4,
   "id": "0b7c21cb",
   "metadata": {},
   "outputs": [
    {
     "name": "stdout",
     "output_type": "stream",
     "text": [
      "Accuracy :  77 %\n"
     ]
    }
   ],
   "source": [
    "print(\"Accuracy : \",int(metrics.accuracy_score(y_test,y_pred)*100),'%')"
   ]
  },
  {
   "cell_type": "code",
   "execution_count": 7,
   "id": "af117515",
   "metadata": {},
   "outputs": [],
   "source": [
    "data = pd.DataFrame(pd.read_csv('diabetes.csv'))\n",
    "x = data.iloc[0:,0:8]\n",
    "y = data.iloc[0:,8]"
   ]
  },
  {
   "cell_type": "code",
   "execution_count": 16,
   "id": "3068759d",
   "metadata": {},
   "outputs": [],
   "source": [
    "X_train,X_test,y_train,y_test = train_test_split(x,y,test_size=0.12)"
   ]
  },
  {
   "cell_type": "code",
   "execution_count": 17,
   "id": "8ff76f26",
   "metadata": {},
   "outputs": [
    {
     "data": {
      "text/plain": [
       "GaussianNB()"
      ]
     },
     "execution_count": 17,
     "metadata": {},
     "output_type": "execute_result"
    }
   ],
   "source": [
    "gb = GaussianNB()\n",
    "gb.fit(X_train,y_train)"
   ]
  },
  {
   "cell_type": "code",
   "execution_count": 18,
   "id": "3170dd87",
   "metadata": {},
   "outputs": [],
   "source": [
    "Y_pred = gb.predict(X_test)"
   ]
  },
  {
   "cell_type": "code",
   "execution_count": 19,
   "id": "51f9526b",
   "metadata": {},
   "outputs": [
    {
     "name": "stdout",
     "output_type": "stream",
     "text": [
      "Accuracy :  75 %\n"
     ]
    }
   ],
   "source": [
    "print(\"Accuracy : \",int(metrics.accuracy_score(y_test,Y_pred)*100),'%')"
   ]
  },
  {
   "cell_type": "code",
   "execution_count": null,
   "id": "244b29b5",
   "metadata": {},
   "outputs": [],
   "source": []
  },
  {
   "cell_type": "code",
   "execution_count": null,
   "id": "111860c7",
   "metadata": {},
   "outputs": [],
   "source": []
  }
 ],
 "metadata": {
  "kernelspec": {
   "display_name": "Python 3",
   "language": "python",
   "name": "python3"
  },
  "language_info": {
   "codemirror_mode": {
    "name": "ipython",
    "version": 3
   },
   "file_extension": ".py",
   "mimetype": "text/x-python",
   "name": "python",
   "nbconvert_exporter": "python",
   "pygments_lexer": "ipython3",
   "version": "3.8.8"
  }
 },
 "nbformat": 4,
 "nbformat_minor": 5
}
