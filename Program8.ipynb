{
 "cells": [
  {
   "cell_type": "code",
   "execution_count": 1,
   "id": "5e775b4c",
   "metadata": {},
   "outputs": [],
   "source": [
    "from sklearn.datasets import load_iris\n",
    "from sklearn.model_selection import train_test_split\n",
    "from sklearn.neighbors import KNeighborsClassifier"
   ]
  },
  {
   "cell_type": "code",
   "execution_count": 9,
   "id": "cb2bbe2f",
   "metadata": {},
   "outputs": [],
   "source": [
    "iris=load_iris()\n",
    "X_train,X_test,y_train,y_test=train_test_split(iris.data,iris.target,test_size=.25)\n",
    "clf=KNeighborsClassifier()"
   ]
  },
  {
   "cell_type": "code",
   "execution_count": 10,
   "id": "fc43f228",
   "metadata": {},
   "outputs": [
    {
     "name": "stdout",
     "output_type": "stream",
     "text": [
      "Accuracy= 0.9473684210526315\n",
      "Predicted Data :  [2 2 1 2 0 2 0 1 1 0 1 1 0 2 2 2 0 0 0 2 0 1 1 0 2 2 0 2 2 2 2 0 2 2 2 0 0\n",
      " 1]\n",
      "Test Data :  [2 2 2 2 0 2 0 1 1 0 1 1 0 2 2 2 0 0 0 2 0 1 1 0 2 2 0 2 2 2 2 0 2 1 2 0 0\n",
      " 1]\n",
      "Result is :  [ 0  0 -1  0  0  0  0  0  0  0  0  0  0  0  0  0  0  0  0  0  0  0  0  0\n",
      "  0  0  0  0  0  0  0  0  0  1  0  0  0  0]\n",
      "Total no of samples misclassified= 2\n"
     ]
    }
   ],
   "source": [
    "clf.fit(X_train,y_train)\n",
    "print(\"Accuracy=\",clf.score(X_test,y_test))\n",
    "prediction=clf.predict(X_test)\n",
    "print(\"Predicted Data : \",prediction)\n",
    "print(\"Test Data : \",y_test)\n",
    "diff=prediction-y_test\n",
    "print(\"Result is : \",diff)\n",
    "print(\"Total no of samples misclassified=\",sum(abs(diff)))"
   ]
  },
  {
   "cell_type": "code",
   "execution_count": 59,
   "id": "85cbf516",
   "metadata": {},
   "outputs": [],
   "source": [
    "from sklearn.datasets import load_iris\n",
    "from sklearn.model_selection import train_test_split\n",
    "from sklearn.neighbors import KNeighborsClassifier"
   ]
  },
  {
   "cell_type": "code",
   "execution_count": 60,
   "id": "0037000a",
   "metadata": {},
   "outputs": [
    {
     "data": {
      "text/plain": [
       "KNeighborsClassifier()"
      ]
     },
     "execution_count": 60,
     "metadata": {},
     "output_type": "execute_result"
    }
   ],
   "source": [
    "iris = load_iris()\n",
    "x_train,x_test,y_train,y_test = train_test_split(iris.data,iris.target,test_size=0.25)\n",
    "clf = KNeighborsClassifier()\n",
    "clf.fit(x_train,y_train)"
   ]
  },
  {
   "cell_type": "code",
   "execution_count": 61,
   "id": "870f1a27",
   "metadata": {},
   "outputs": [
    {
     "name": "stdout",
     "output_type": "stream",
     "text": [
      "ACCURACY :  97 %\n"
     ]
    }
   ],
   "source": [
    "print('ACCURACY : ',int(clf.score(x_test,y_test)*100),'%')"
   ]
  },
  {
   "cell_type": "code",
   "execution_count": 62,
   "id": "12d59723",
   "metadata": {},
   "outputs": [],
   "source": [
    "predicted = clf.predict(x_test)"
   ]
  },
  {
   "cell_type": "code",
   "execution_count": 63,
   "id": "64f4f5d7",
   "metadata": {},
   "outputs": [
    {
     "name": "stdout",
     "output_type": "stream",
     "text": [
      "PREDICTED VALUE :  [0 2 0 0 0 1 1 0 0 0 0 0 2 0 0 1 0 1 2 1 1 1 2 1 0 0 2 0 2 1 0 2 2 1 0 0 2\n",
      " 1]\n"
     ]
    }
   ],
   "source": [
    "print('PREDICTED VALUE : ',predicted)"
   ]
  },
  {
   "cell_type": "code",
   "execution_count": 64,
   "id": "d6e2f7c0",
   "metadata": {},
   "outputs": [
    {
     "name": "stdout",
     "output_type": "stream",
     "text": [
      "ACTUAL VALUE :  [0 2 0 0 0 1 1 0 0 0 0 0 2 0 0 1 0 1 1 1 1 1 2 1 0 0 2 0 2 1 0 2 2 1 0 0 2\n",
      " 1]\n"
     ]
    }
   ],
   "source": [
    "print('ACTUAL VALUE : ',y_test)"
   ]
  },
  {
   "cell_type": "code",
   "execution_count": 65,
   "id": "aee0be83",
   "metadata": {},
   "outputs": [],
   "source": [
    "diff= predicted - y_test"
   ]
  },
  {
   "cell_type": "code",
   "execution_count": 66,
   "id": "7e232348",
   "metadata": {},
   "outputs": [
    {
     "name": "stdout",
     "output_type": "stream",
     "text": [
      "RESULT :  [0 0 0 0 0 0 0 0 0 0 0 0 0 0 0 0 0 0 1 0 0 0 0 0 0 0 0 0 0 0 0 0 0 0 0 0 0\n",
      " 0]\n"
     ]
    }
   ],
   "source": [
    "print('RESULT : ',diff)"
   ]
  },
  {
   "cell_type": "code",
   "execution_count": 67,
   "id": "90fad098",
   "metadata": {},
   "outputs": [
    {
     "name": "stdout",
     "output_type": "stream",
     "text": [
      "TOTAL NO. OF MIS CLASSIFIES SAMPLE :  1\n"
     ]
    }
   ],
   "source": [
    "print('TOTAL NO. OF MIS CLASSIFIES SAMPLE : ',sum(abs(diff)))"
   ]
  },
  {
   "cell_type": "code",
   "execution_count": null,
   "id": "aea71eae",
   "metadata": {},
   "outputs": [],
   "source": []
  },
  {
   "cell_type": "code",
   "execution_count": null,
   "id": "2d6353f8",
   "metadata": {},
   "outputs": [],
   "source": []
  }
 ],
 "metadata": {
  "kernelspec": {
   "display_name": "Python 3",
   "language": "python",
   "name": "python3"
  },
  "language_info": {
   "codemirror_mode": {
    "name": "ipython",
    "version": 3
   },
   "file_extension": ".py",
   "mimetype": "text/x-python",
   "name": "python",
   "nbconvert_exporter": "python",
   "pygments_lexer": "ipython3",
   "version": "3.8.8"
  }
 },
 "nbformat": 4,
 "nbformat_minor": 5
}
