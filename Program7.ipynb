{
 "cells": [
  {
   "cell_type": "code",
   "execution_count": 15,
   "id": "d504d7d8",
   "metadata": {},
   "outputs": [],
   "source": [
    "from sklearn import datasets\n",
    "from sklearn.cluster import KMeans\n",
    "import sklearn.metrics as sm\n",
    "import pandas as pd\n",
    "import numpy as np"
   ]
  },
  {
   "cell_type": "code",
   "execution_count": 16,
   "id": "ff8de19e",
   "metadata": {},
   "outputs": [],
   "source": [
    "iris=datasets.load_iris()\n",
    "X=iris.data\n",
    "y=iris.target"
   ]
  },
  {
   "cell_type": "code",
   "execution_count": 24,
   "id": "4dd0f0cb",
   "metadata": {},
   "outputs": [
    {
     "name": "stdout",
     "output_type": "stream",
     "text": [
      "The accuracy score of K-Mean: 24 %\n",
      "The Confusion matrix of K-Mean: [[ 0 50  0]\n",
      " [48  0  2]\n",
      " [14  0 36]]\n"
     ]
    }
   ],
   "source": [
    "model=KMeans(n_clusters=3)\n",
    "model.fit(X)\n",
    "print('The accuracy score of K-Mean:',int(sm.accuracy_score(y,model.labels_)*100),'%')\n",
    "print('The Confusion matrix of K-Mean:',sm.confusion_matrix(y,model.labels_))"
   ]
  },
  {
   "cell_type": "code",
   "execution_count": 25,
   "id": "89db73e3",
   "metadata": {},
   "outputs": [],
   "source": [
    "from sklearn import preprocessing\n",
    "scaler=preprocessing.StandardScaler()\n",
    "scaler.fit(X)\n",
    "xs=scaler.transform(X)\n"
   ]
  },
  {
   "cell_type": "code",
   "execution_count": 26,
   "id": "927f1e05",
   "metadata": {},
   "outputs": [
    {
     "name": "stdout",
     "output_type": "stream",
     "text": [
      "The accuracy score of EM: 33 %\n",
      "The confusion matrix of EM: [[ 0 50  0]\n",
      " [45  0  5]\n",
      " [ 0  0 50]]\n"
     ]
    }
   ],
   "source": [
    "from sklearn.mixture import GaussianMixture\n",
    "gmm=GaussianMixture(n_components=3)\n",
    "gmm.fit(xs)\n",
    "y_gmm=gmm.predict(xs)\n",
    "print('The accuracy score of EM:',int(sm.accuracy_score(y,y_gmm)*100),'%')\n",
    "print('The confusion matrix of EM:',sm.confusion_matrix(y,y_gmm))"
   ]
  },
  {
   "cell_type": "code",
   "execution_count": null,
   "id": "31114631",
   "metadata": {},
   "outputs": [],
   "source": []
  }
 ],
 "metadata": {
  "kernelspec": {
   "display_name": "Python 3",
   "language": "python",
   "name": "python3"
  },
  "language_info": {
   "codemirror_mode": {
    "name": "ipython",
    "version": 3
   },
   "file_extension": ".py",
   "mimetype": "text/x-python",
   "name": "python",
   "nbconvert_exporter": "python",
   "pygments_lexer": "ipython3",
   "version": "3.8.8"
  }
 },
 "nbformat": 4,
 "nbformat_minor": 5
}
