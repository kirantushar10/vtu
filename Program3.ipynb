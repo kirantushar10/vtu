{
 "cells": [
  {
   "cell_type": "code",
   "execution_count": 1,
   "id": "d7373dd0",
   "metadata": {},
   "outputs": [],
   "source": [
    "import numpy as np\n",
    "import csv"
   ]
  },
  {
   "cell_type": "code",
   "execution_count": 2,
   "id": "4f69cbcd",
   "metadata": {},
   "outputs": [],
   "source": [
    "lines = csv.reader(open('c1.csv', \"r\"))\n",
    "dataset = np.array(list(lines))\n",
    "for i in range(len(dataset)):\n",
    "    dataset[i] = [x for x in dataset[i]]\n",
    "    ."
   ]
  },
  {
   "cell_type": "code",
   "execution_count": 3,
   "id": "c5932d31",
   "metadata": {},
   "outputs": [
    {
     "name": "stdout",
     "output_type": "stream",
     "text": [
      "[['Sunny' 'Warm' 'Normal' 'Strong' 'Warm' 'Same' 'Y']\n",
      " ['Sunny' 'Warm' 'High' 'Strong' 'Warm' 'Same' 'Y']\n",
      " ['Rainy' 'Cold' 'High' 'Strong' 'Warm' 'Change' 'N']\n",
      " ['Sunny' 'Warm' 'High' 'Strong' 'Cool' 'Change' 'Y']]\n"
     ]
    }
   ],
   "source": [
    "print(dataset)"
   ]
  },
  {
   "cell_type": "code",
   "execution_count": 4,
   "id": "64da892a",
   "metadata": {},
   "outputs": [],
   "source": [
    "X = np.array(dataset[:,0:-1])\n",
    "y = np.array(dataset[:,-1])"
   ]
  },
  {
   "cell_type": "code",
   "execution_count": 5,
   "id": "bf553a56",
   "metadata": {},
   "outputs": [],
   "source": [
    "def learn(X,y):\n",
    "    specific_h = X[0].copy()\n",
    "    general_h = [['?' for i in range(len(specific_h))] for i in range(len(specific_h))]\n",
    "    for i,h in enumerate(X):\n",
    "        if y[i] == 'Y':\n",
    "            for x in range(len(specific_h)):\n",
    "                if h[x] != specific_h[x]:\n",
    "                    specific_h[x] = '?'\n",
    "                    general_h[x][x] = '?'\n",
    "        if y[i] == 'N':\n",
    "            for x in range(len(specific_h)):\n",
    "                if h[x] != specific_h[x]:\n",
    "                    general_h[x][x] = specific_h[x]\n",
    "                else:\n",
    "                    general_h[x][x] = '?'\n",
    "    \n",
    "    indices = [i for i,val in enumerate(general_h) if val == ['?','?','?','?','?','?']]\n",
    "    for i in indices:\n",
    "        general_h.remove(['?','?','?','?','?','?'])\n",
    "    \n",
    "    print('Final specific_h : ',specific_h)\n",
    "    print('Final general_h : ',general_h)"
   ]
  },
  {
   "cell_type": "code",
   "execution_count": 6,
   "id": "b9e9a95e",
   "metadata": {},
   "outputs": [
    {
     "name": "stdout",
     "output_type": "stream",
     "text": [
      "Final specific_h :  ['Sunny' 'Warm' '?' 'Strong' '?' '?']\n",
      "Final general_h :  [['Sunny', '?', '?', '?', '?', '?'], ['?', 'Warm', '?', '?', '?', '?']]\n"
     ]
    }
   ],
   "source": [
    "learn(X,y)"
   ]
  },
  {
   "cell_type": "code",
   "execution_count": null,
   "id": "8c4a23cd",
   "metadata": {},
   "outputs": [],
   "source": []
  }
 ],
 "metadata": {
  "kernelspec": {
   "display_name": "Python 3",
   "language": "python",
   "name": "python3"
  },
  "language_info": {
   "codemirror_mode": {
    "name": "ipython",
    "version": 3
   },
   "file_extension": ".py",
   "mimetype": "text/x-python",
   "name": "python",
   "nbconvert_exporter": "python",
   "pygments_lexer": "ipython3",
   "version": "3.8.8"
  }
 },
 "nbformat": 4,
 "nbformat_minor": 5
}
